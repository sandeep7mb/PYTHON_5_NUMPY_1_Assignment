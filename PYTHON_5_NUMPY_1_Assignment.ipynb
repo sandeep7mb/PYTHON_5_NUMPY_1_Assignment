{
 "cells": [
  {
   "cell_type": "code",
   "execution_count": null,
   "metadata": {},
   "outputs": [],
   "source": [
    "Task 1 - 1 Write a function to compute 5/0 and use try/except to catch the exception"
   ]
  },
  {
   "cell_type": "code",
   "execution_count": 1,
   "metadata": {},
   "outputs": [
    {
     "name": "stdout",
     "output_type": "stream",
     "text": [
      "Can not devide by zero, error trace: division by zero\n"
     ]
    },
    {
     "data": {
      "text/plain": [
       "'Can not devide by zero'"
      ]
     },
     "execution_count": 1,
     "metadata": {},
     "output_type": "execute_result"
    }
   ],
   "source": [
    "def devideByZero(temp):\n",
    "    try:\n",
    "        temp2 = int(temp)/0\n",
    "    except ZeroDivisionError as err1:\n",
    "        print(\"Can not devide by zero, error trace: {}\".format(err1))\n",
    "        return \"Can not devide by zero\"\n",
    "    except Exception as err2:\n",
    "        print(\"Unknown error message description here {}\".format(err2))\n",
    "        return \"Unknown error while deviding\"\n",
    "        \n",
    "    return temp2\n",
    "\n",
    "devideByZero(5)"
   ]
  },
  {
   "cell_type": "code",
   "execution_count": null,
   "metadata": {},
   "outputs": [],
   "source": [
    "\n",
    "Task 1 - 2 Implement a python program to generate all sentences where subject is in [\"Americans\", \"Indians\"] and verb is in [\"Play\", \"watch\"] and object is in [\"Baseball\", \"Cricket\"]"
   ]
  },
  {
   "cell_type": "code",
   "execution_count": 2,
   "metadata": {},
   "outputs": [
    {
     "name": "stdout",
     "output_type": "stream",
     "text": [
      "Americans Play Baseball\n",
      "Americans Play Cricket\n",
      "Americans watch Baseball\n",
      "Americans watch Cricket\n",
      "Indians Play Baseball\n",
      "Indians Play Cricket\n",
      "Indians watch Baseball\n",
      "Indians watch Cricket\n"
     ]
    }
   ],
   "source": [
    "subject = [\"Americans\", \"Indians\"] \n",
    "verb = [\"Play\", \"watch\"]\n",
    "object = [\"Baseball\", \"Cricket\"]\n",
    "\n",
    "for k in subject:\n",
    "    for i in verb:\n",
    "        print(k + \" \" + i + \" \" + object[0])\n",
    "        print(k + \" \" + i + \" \" + object[1])"
   ]
  },
  {
   "cell_type": "code",
   "execution_count": null,
   "metadata": {},
   "outputs": [],
   "source": [
    "Task 2: Write a function so that the columns of the output matrix are powers of the input vector. alexandre theophile vandermonde"
   ]
  },
  {
   "cell_type": "code",
   "execution_count": 4,
   "metadata": {},
   "outputs": [
    {
     "name": "stdout",
     "output_type": "stream",
     "text": [
      "Input array is: \n",
      "[[ -3.  13.  15.]\n",
      " [-15.  -1.  11.]]\n",
      "Alexandre Throphile Vandermonde output array is: \n",
      "[[  1.  13. 225.]\n",
      " [  1.  -1. 121.]]\n"
     ]
    }
   ],
   "source": [
    "import numpy as np\n",
    "\n",
    "def alexandreThrophileVandermonde(inputmat):\n",
    "    temp = np.ones(inputmat.shape, dtype=np.int8)\n",
    "    temp2 = temp.cumsum(axis=1)\n",
    "    print(\"Input array is: \")\n",
    "    print(inputmat)\n",
    "    print(\"Alexandre Throphile Vandermonde output array is: \")\n",
    "    print(inputmat ** (temp2-1))\n",
    "\n",
    "temp = np.array(np.floor(10*np.random.randn(2,3)))\n",
    "\n",
    "alexandreThrophileVandermonde(temp)"
   ]
  }
 ],
 "metadata": {
  "kernelspec": {
   "display_name": "Python 3",
   "language": "python",
   "name": "python3"
  },
  "language_info": {
   "codemirror_mode": {
    "name": "ipython",
    "version": 3
   },
   "file_extension": ".py",
   "mimetype": "text/x-python",
   "name": "python",
   "nbconvert_exporter": "python",
   "pygments_lexer": "ipython3",
   "version": "3.7.1"
  }
 },
 "nbformat": 4,
 "nbformat_minor": 2
}
